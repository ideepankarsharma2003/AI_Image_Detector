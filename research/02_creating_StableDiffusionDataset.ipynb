{
 "cells": [
  {
   "cell_type": "code",
   "execution_count": 1,
   "metadata": {},
   "outputs": [
    {
     "name": "stderr",
     "output_type": "stream",
     "text": [
      "/home/ubuntu/AI_Image_Detector/venv/lib/python3.10/site-packages/tqdm/auto.py:21: TqdmWarning: IProgress not found. Please update jupyter and ipywidgets. See https://ipywidgets.readthedocs.io/en/stable/user_install.html\n",
      "  from .autonotebook import tqdm as notebook_tqdm\n"
     ]
    }
   ],
   "source": [
    "from datasets import load_dataset\n"
   ]
  },
  {
   "cell_type": "code",
   "execution_count": 2,
   "metadata": {},
   "outputs": [],
   "source": [
    "dataset= load_dataset(\"Falah/image_generation_prompts_SDXL\")"
   ]
  },
  {
   "cell_type": "code",
   "execution_count": 3,
   "metadata": {},
   "outputs": [
    {
     "data": {
      "text/plain": [
       "DatasetDict({\n",
       "    train: Dataset({\n",
       "        features: ['prompts'],\n",
       "        num_rows: 1000000\n",
       "    })\n",
       "})"
      ]
     },
     "execution_count": 3,
     "metadata": {},
     "output_type": "execute_result"
    }
   ],
   "source": [
    "dataset"
   ]
  },
  {
   "cell_type": "code",
   "execution_count": 4,
   "metadata": {},
   "outputs": [
    {
     "data": {
      "text/plain": [
       "list"
      ]
     },
     "execution_count": 4,
     "metadata": {},
     "output_type": "execute_result"
    }
   ],
   "source": [
    "type(dataset['train'][:20000]['prompts'])"
   ]
  },
  {
   "cell_type": "code",
   "execution_count": 5,
   "metadata": {},
   "outputs": [],
   "source": [
    "import json"
   ]
  },
  {
   "cell_type": "code",
   "execution_count": 6,
   "metadata": {},
   "outputs": [
    {
     "data": {
      "text/plain": [
       "['\"pictorialist photo of a child with a cute expression and messy hair, unique hairstyle, wearing a sundress, interacting with nature, High angle view, amidst a field of wildflowers under a clear blue sky, Cinematic lighting with moody ambiance, From below in a low angle, RED Digital Cinema Camera, in style of by Helmut Newton\"',\n",
       " '\"beauty photo of a teenage girl with short curly red hair, striking tattoos, playing a musical instrument, in mid-dance move, Full body shot, in a bustling city square during sunset, Golden hour light casting a warm glow, From above in a high angle, Hasselblad X1D II, in style of by Diane Arbus\"',\n",
       " '\"glamor photo of a young man wearing a suit and tie, expressive facial features, wearing a sundress, striking a confident pose, Upper body from behind, amidst a field of wildflowers under a clear blue sky, Bounced lighting, Eye level, Fujifilm X-T4, in style of by Annie Leibovitz\"']"
      ]
     },
     "execution_count": 6,
     "metadata": {},
     "output_type": "execute_result"
    }
   ],
   "source": [
    "prompts= dataset.shuffle(seed=67)['train'][:40000]['prompts']\n",
    "prompts[:3]"
   ]
  },
  {
   "cell_type": "code",
   "execution_count": 7,
   "metadata": {},
   "outputs": [],
   "source": [
    "# prompts_new= []\n",
    "# for prompt in prompts:\n",
    "#     prompts_new.append(\n",
    "#         # prompt.replace('\"', '')\n",
    "#     )\n",
    "    \n",
    "# prompts= prompts_new"
   ]
  },
  {
   "cell_type": "code",
   "execution_count": null,
   "metadata": {},
   "outputs": [],
   "source": []
  },
  {
   "cell_type": "code",
   "execution_count": 8,
   "metadata": {},
   "outputs": [],
   "source": [
    "l=[\n",
    "    '\"A serene mountain landscape with a cozy cabin nestled among pine trees.\"',\n",
    "'\"A futuristic cityscape with flying cars zooming between skyscrapers.\"',\n",
    "'\"An underwater scene with colorful coral reefs and exotic fish.\"',\n",
    "'\"A mystical forest shrouded in mist, with sunlight filtering through the trees.\"',\n",
    "'\"An alien planet with strange, otherworldly flora and fauna.\"',\n",
    "'\"A bustling marketplace filled with vendors selling exotic goods.\"',\n",
    "'\"A peaceful lakeside scene with ducks swimming and a willow tree hanging over the water.\"',\n",
    "'\"A medieval castle perched on a hill, surrounded by lush green fields.\"',\n",
    "'\"A whimsical fairy tale village with thatched-roof cottages and cobblestone streets.\"',\n",
    "'\"A dramatic thunderstorm with lightning illuminating the sky and rain pouring down.\"',\n",
    "'\"An abandoned spaceship drifting through the vastness of space.\"',\n",
    "'\"A post-apocalyptic wasteland with crumbling buildings and overgrown vegetation.\"',\n",
    "'\"A safari landscape with elephants, giraffes, and zebras roaming the savanna.\"',\n",
    "'\"A magical wizard\\'s tower with swirling clouds and a shooting star in the sky.\"',\n",
    "'\"A cozy bookstore with shelves lined with books and reading nooks tucked away in corners.\"',\n",
    "'\"A lunar colony with domed buildings and astronauts exploring the lunar surface.\"',\n",
    "'\"A futuristic cyberpunk city with neon lights and towering skyscrapers.\"',\n",
    "'\"A tranquil Japanese garden with a koi pond and cherry blossom trees.\"',\n",
    "'\"A Viking longship sailing across stormy seas with dragons circling overhead.\"',\n",
    "'\"A steampunk airship soaring through the clouds against a backdrop of gears and machinery.\"',\n",
    "'\"A surreal dreamscape with floating islands and surreal creatures.\"',\n",
    "'\"A quaint European village with cobblestone streets and colorful buildings.\"',\n",
    "'\"A majestic waterfall cascading down a rocky cliff into a crystal-clear pool below.\"',\n",
    "'\"A haunted mansion with eerie shadows and ghostly apparitions.\"',\n",
    "'\"A space station orbiting a distant planet, with astronauts conducting experiments in zero gravity.\"',\n",
    "'\"A secret garden hidden behind a vine-covered wall, filled with exotic flowers and lush greenery.\"',\n",
    "'\"A hot air balloon drifting lazily over patchwork fields and rolling hills.\"',\n",
    "'\"A bustling street market in Marrakech with vibrant colors and exotic spices.\"',\n",
    "'\"A Gothic cathedral with stained glass windows and towering spires reaching towards the sky.\"',\n",
    "'\"An enchanted forest inhabited by mythical creatures like unicorns and fairies.\"',\n",
    "'\"A retro-futuristic cityscape inspired by 1950s science fiction.\"',\n",
    "'\"A magical underwater kingdom with mermaids swimming among coral reefs.\"',\n",
    "'\"A lunar eclipse casting an eerie glow over a desert landscape.\"',\n",
    "'\"A cybernetic jungle where nature and technology merge in unexpected ways.\"',\n",
    "'\"A time-traveling adventurer exploring ancient ruins in a lost civilization.\"',\n",
    "'\"A floating city in the clouds, with airships docking at towering skyscrapers.\"',\n",
    "'\"A Victorian-era London street scene with gas lamps and horse-drawn carriages.\"',\n",
    "'\"A surreal desert landscape with towering sand dunes and a mirage in the distance.\"',\n",
    "'\"A hidden cavern filled with glowing crystals and shimmering stalactites.\"',\n",
    "'\"A space colony on Mars with domed habitats and terraformed landscapes.\"',\n",
    "'\"A mythical dragon\\'s lair filled with treasure and ancient artifacts.\"',\n",
    "'\"A retro arcade filled with classic video games and neon lights.\"',\n",
    "'\"A magical library with books that come to life when opened.\"',\n",
    "'\"A futuristic sports arena where teams compete in high-tech competitions.\"',\n",
    "'\"A serene Zen garden with raked sand and carefully placed rocks.\"',\n",
    "'\"A whimsical circus with acrobats, clowns, and exotic animals.\"',\n",
    "'\"A mysterious abandoned laboratory with bubbling vials and flickering lights.\"',\n",
    "'\"A hidden underground city inhabited by survivors of a cataclysmic event.\"',\n",
    "'\"A steampunk submarine exploring the depths of the ocean.\"',\n",
    "'\"A lush rainforest canopy teeming with exotic wildlife and colorful birds.\"',\n",
    "'\"A futuristic spaceport bustling with activity as ships come and go.\"',\n",
    "'\"A magical kingdom ruled by a benevolent queen and her loyal subjects.\"',\n",
    "'\"An ancient temple hidden deep in the jungle, guarded by mystical creatures.\"',\n",
    "'\"A whimsical candyland with rivers of chocolate and lollipop trees.\"',\n",
    "'\"A futuristic hovercraft race speeding through a neon-lit cityscape.\"',\n",
    "'\"A tranquil beach scene with palm trees swaying in the breeze and waves crashing on the shore.\"',\n",
    "'\"A haunted shipwreck resting on the ocean floor, surrounded by eerie marine life.\"',\n",
    "'\"A floating city made entirely of clouds, with rainbow bridges connecting different parts.\"',\n",
    "'\"A steampunk laboratory filled with brass gadgets and bubbling vials.\"',\n",
    "'\"A futuristic metropolis where robots and humans live side by side.\"',\n",
    "'\"A magical potion shop with shelves lined with colorful bottles and jars.\"',\n",
    "'\"An underground bunker in a post-apocalyptic world, with survivors banding together to rebuild society.\"',\n",
    "'\"A whimsical carousel with intricately carved animals and twinkling lights.\"',\n",
    "'\"A hidden oasis in the desert, with palm trees and a shimmering blue pool.\"',\n",
    "'\"A cybernetic jungle where robotic animals roam among the trees.\"',\n",
    "'\"A bustling harbor filled with ships from all corners of the globe.\"',\n",
    "'\"A majestic ice castle carved from the frozen landscape of a winter wonderland.\"',\n",
    "'\"A retro-futuristic diner with chrome accents and neon signs.\"',\n",
    "'\"A mystical portal leading to another dimension, crackling with energy.\"',\n",
    "'\"A fantastical steampunk city built on the backs of giant mechanical beasts.\"',\n",
    "'\"A futuristic space station orbiting a distant planet, with astronauts conducting research in zero gravity.\"',\n",
    "'\"A hidden cave filled with glowing crystals and ancient cave paintings.\"',\n",
    "'\"A post-apocalyptic cityscape reclaimed by nature, with vines and foliage growing over abandoned buildings.\"',\n",
    "'\"A magical forest where trees come to life and animals speak in whispers.\"',\n",
    "'\"A bustling night market with vendors selling exotic foods and trinkets.\"',\n",
    "'\"An enchanted castle in the clouds, with towers reaching towards the sky.\"',\n",
    "'\"A cyberpunk alleyway filled with holographic advertisements and flickering neon lights.\"',\n",
    "'\"A whimsical fairy garden with tiny houses and flower-shaped furniture.\"',\n",
    "'\"A futuristic laboratory where scientists conduct experiments on alien technology.\"',\n",
    "'\"A hidden underground society living in the tunnels beneath a bustling city.\"',\n",
    "'\"A mystical crystal cave filled with shimmering gemstones and glowing mushrooms.\"',\n",
    "'\"A steampunk airship fleet sailing through the clouds on a daring adventure.\"',\n",
    "'\"A serene bamboo forest with sunlight filtering through the dense canopy.\"',\n",
    "'\"A magical school for wizards and witches, hidden from the eyes of ordinary humans.\"',\n",
    "'\"A futuristic amusement park with high-speed roller coasters and virtual reality rides.\"',\n",
    "'\"An ancient ruin in the jungle, with crumbling stone temples and overgrown vegetation.\"',\n",
    "'\"A whimsical tea party with talking animals and colorful pastries.\"',\n",
    "'\"A secret underground laboratory where mad scientists create monstrous creations.\"',\n",
    "'\"A futuristic city on the moon, with domed habitats and underground tunnels.\"',\n",
    "'\"A mystical waterfall hidden deep in the heart of a enchanted forest.\"',\n",
    "'\"A bustling cybernetic marketplace where robots and humans trade goods.\"',\n",
    "'\"A haunted mansion filled with traps and puzzles to thwart intruders.\"',\n",
    "'\"A whimsical circus tent filled with performers and exotic animals.\"',\n",
    "'\"A post-apocalyptic wasteland where survivors scavenge for resources.\"',\n",
    "'\"A futuristic metropolis at night, with skyscrapers illuminated by neon lights.\"',\n",
    "'\"A magical kingdom under siege by dark forces, defended by brave knights and wizards.\"',\n",
    "'\"A steampunk submarine exploring the depths of the ocean, searching for lost treasures.\"',\n",
    "'\"A serene countryside landscape with rolling hills and fields of flowers.\"',\n",
    "'\"A cybernetic dragon soaring through the sky, breathing fire and lightning.\"',\n",
    "'\"A whimsical candy factory where sweets are made with magic and imagination.\"',\n",
    "]"
   ]
  },
  {
   "cell_type": "code",
   "execution_count": null,
   "metadata": {},
   "outputs": [],
   "source": []
  },
  {
   "cell_type": "code",
   "execution_count": 9,
   "metadata": {},
   "outputs": [
    {
     "data": {
      "text/plain": [
       "['\"A serene mountain landscape with a cozy cabin nestled among pine trees.\"',\n",
       " '\"A futuristic cityscape with flying cars zooming between skyscrapers.\"',\n",
       " '\"An underwater scene with colorful coral reefs and exotic fish.\"']"
      ]
     },
     "execution_count": 9,
     "metadata": {},
     "output_type": "execute_result"
    }
   ],
   "source": [
    "prompts= l+prompts\n",
    "prompts[:3]"
   ]
  },
  {
   "cell_type": "code",
   "execution_count": 10,
   "metadata": {},
   "outputs": [],
   "source": [
    "with open(\"prompts.json\", \"w\") as f:\n",
    "    json.dump(\n",
    "        prompts,\n",
    "        f\n",
    "    )"
   ]
  },
  {
   "cell_type": "code",
   "execution_count": null,
   "metadata": {},
   "outputs": [],
   "source": []
  }
 ],
 "metadata": {
  "kernelspec": {
   "display_name": "venv",
   "language": "python",
   "name": "python3"
  },
  "language_info": {
   "codemirror_mode": {
    "name": "ipython",
    "version": 3
   },
   "file_extension": ".py",
   "mimetype": "text/x-python",
   "name": "python",
   "nbconvert_exporter": "python",
   "pygments_lexer": "ipython3",
   "version": "3.10.12"
  }
 },
 "nbformat": 4,
 "nbformat_minor": 2
}
