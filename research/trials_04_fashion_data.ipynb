{
 "cells": [
  {
   "cell_type": "code",
   "execution_count": 1,
   "metadata": {},
   "outputs": [],
   "source": [
    "import os; os.chdir(\"..\")"
   ]
  },
  {
   "cell_type": "code",
   "execution_count": 2,
   "metadata": {},
   "outputs": [
    {
     "data": {
      "text/plain": [
       "['ai_gen_images',\n",
       " 'human',\n",
       " 'fashion-product-images-dataset.zip',\n",
       " '.gitignore',\n",
       " '.git',\n",
       " 'scripts',\n",
       " 'research',\n",
       " 'venv',\n",
       " 'requirements.txt',\n",
       " 'temp']"
      ]
     },
     "execution_count": 2,
     "metadata": {},
     "output_type": "execute_result"
    }
   ],
   "source": [
    "os.listdir()"
   ]
  },
  {
   "cell_type": "code",
   "execution_count": 3,
   "metadata": {},
   "outputs": [
    {
     "data": {
      "text/plain": [
       "['34957.jpg', '18508.jpg', '21091.jpg', '40499.jpg', '57134.jpg']"
      ]
     },
     "execution_count": 3,
     "metadata": {},
     "output_type": "execute_result"
    }
   ],
   "source": [
    "os.chdir(\"temp/fashion-dataset/fashion-dataset/images\")\n",
    "\n",
    "os.listdir()[:5]"
   ]
  },
  {
   "cell_type": "code",
   "execution_count": 4,
   "metadata": {},
   "outputs": [
    {
     "data": {
      "text/plain": [
       "'/home/ubuntu/AI_Image_Detector/temp/fashion-dataset/fashion-dataset/images'"
      ]
     },
     "execution_count": 4,
     "metadata": {},
     "output_type": "execute_result"
    }
   ],
   "source": [
    "%pwd"
   ]
  },
  {
   "cell_type": "code",
   "execution_count": 5,
   "metadata": {},
   "outputs": [],
   "source": [
    "from tqdm import tqdm"
   ]
  },
  {
   "cell_type": "code",
   "execution_count": 6,
   "metadata": {},
   "outputs": [
    {
     "name": "stderr",
     "output_type": "stream",
     "text": [
      " 23%|██▎       | 10340/44441 [00:00<00:00, 52185.13it/s]"
     ]
    },
    {
     "name": "stderr",
     "output_type": "stream",
     "text": [
      "100%|██████████| 44441/44441 [00:00<00:00, 53539.69it/s]\n"
     ]
    }
   ],
   "source": [
    "for filename in tqdm(os.listdir()):\n",
    "    os.rename(\n",
    "        filename,\n",
    "        f\"fashion_data_{filename}\"\n",
    "    )"
   ]
  },
  {
   "cell_type": "code",
   "execution_count": 7,
   "metadata": {},
   "outputs": [
    {
     "data": {
      "text/plain": [
       "['fashion_data_10476.jpg',\n",
       " 'fashion_data_22148.jpg',\n",
       " 'fashion_data_7860.jpg',\n",
       " 'fashion_data_21120.jpg',\n",
       " 'fashion_data_59404.jpg',\n",
       " 'fashion_data_27605.jpg',\n",
       " 'fashion_data_38365.jpg',\n",
       " 'fashion_data_56176.jpg',\n",
       " 'fashion_data_49780.jpg',\n",
       " 'fashion_data_1546.jpg']"
      ]
     },
     "execution_count": 7,
     "metadata": {},
     "output_type": "execute_result"
    }
   ],
   "source": [
    "os.listdir()[:10]"
   ]
  },
  {
   "cell_type": "code",
   "execution_count": null,
   "metadata": {},
   "outputs": [],
   "source": []
  }
 ],
 "metadata": {
  "kernelspec": {
   "display_name": "venv",
   "language": "python",
   "name": "python3"
  },
  "language_info": {
   "codemirror_mode": {
    "name": "ipython",
    "version": 3
   },
   "file_extension": ".py",
   "mimetype": "text/x-python",
   "name": "python",
   "nbconvert_exporter": "python",
   "pygments_lexer": "ipython3",
   "version": "3.10.12"
  }
 },
 "nbformat": 4,
 "nbformat_minor": 2
}
