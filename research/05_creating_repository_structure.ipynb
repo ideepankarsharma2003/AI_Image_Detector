{
 "cells": [
  {
   "cell_type": "code",
   "execution_count": 1,
   "metadata": {},
   "outputs": [
    {
     "data": {
      "text/plain": [
       "'/home/ubuntu/AI_Image_Detector'"
      ]
     },
     "execution_count": 1,
     "metadata": {},
     "output_type": "execute_result"
    }
   ],
   "source": [
    "import os; os.chdir(\"..\")\n",
    "%pwd"
   ]
  },
  {
   "cell_type": "code",
   "execution_count": 4,
   "metadata": {},
   "outputs": [],
   "source": [
    "folder= \"images\""
   ]
  },
  {
   "cell_type": "code",
   "execution_count": 5,
   "metadata": {},
   "outputs": [],
   "source": [
    "classes= [\"human\", \"ai_gen\"]\n",
    "splits= [\"train\", \"test\", \"validation\"]"
   ]
  },
  {
   "cell_type": "code",
   "execution_count": 6,
   "metadata": {},
   "outputs": [
    {
     "data": {
      "text/plain": [
       "['images/train/human', 'images/validation/human', 'images/test/human']"
      ]
     },
     "execution_count": 6,
     "metadata": {},
     "output_type": "execute_result"
    }
   ],
   "source": [
    "# human\n",
    "train_human= f\"{folder}/{splits[0]}/{classes[0]}\"\n",
    "validation_human= f\"{folder}/{splits[2]}/{classes[0]}\"\n",
    "test_human= f\"{folder}/{splits[1]}/{classes[0]}\"\n",
    "\n",
    "\n",
    "[train_human, validation_human, test_human]"
   ]
  },
  {
   "cell_type": "code",
   "execution_count": 7,
   "metadata": {},
   "outputs": [
    {
     "data": {
      "text/plain": [
       "['images/train/ai_gen', 'images/validation/ai_gen', 'images/test/ai_gen']"
      ]
     },
     "execution_count": 7,
     "metadata": {},
     "output_type": "execute_result"
    }
   ],
   "source": [
    "# ai_gen\n",
    "train_ai_gen= f\"{folder}/{splits[0]}/{classes[1]}\"\n",
    "validation_ai_gen= f\"{folder}/{splits[2]}/{classes[1]}\"\n",
    "test_ai_gen= f\"{folder}/{splits[1]}/{classes[1]}\"\n",
    "\n",
    "\n",
    "[train_ai_gen, validation_ai_gen, test_ai_gen]"
   ]
  },
  {
   "cell_type": "code",
   "execution_count": 9,
   "metadata": {},
   "outputs": [],
   "source": [
    "# for dir in [train_human, validation_human, test_human]:\n",
    "for dir in [train_ai_gen, validation_ai_gen, test_ai_gen]:\n",
    "    os.makedirs(dir, exist_ok=True)\n"
   ]
  },
  {
   "cell_type": "code",
   "execution_count": 10,
   "metadata": {},
   "outputs": [
    {
     "data": {
      "text/plain": [
       "31783"
      ]
     },
     "execution_count": 10,
     "metadata": {},
     "output_type": "execute_result"
    }
   ],
   "source": [
    "len(os.listdir(\"human\"))"
   ]
  },
  {
   "cell_type": "code",
   "execution_count": null,
   "metadata": {},
   "outputs": [],
   "source": [
    "len(os.listdir(\"ai_gen_images\"))\n"
   ]
  },
  {
   "cell_type": "code",
   "execution_count": 12,
   "metadata": {},
   "outputs": [
    {
     "data": {
      "text/plain": [
       "['473499987.jpg', '2860314714.jpg', '519754987.jpg', '224069602.jpg']"
      ]
     },
     "execution_count": 12,
     "metadata": {},
     "output_type": "execute_result"
    }
   ],
   "source": [
    "os.listdir(\"human\")[:4]"
   ]
  },
  {
   "cell_type": "code",
   "execution_count": 11,
   "metadata": {},
   "outputs": [],
   "source": [
    "from tqdm import tqdm"
   ]
  },
  {
   "cell_type": "code",
   "execution_count": 13,
   "metadata": {},
   "outputs": [
    {
     "name": "stderr",
     "output_type": "stream",
     "text": [
      "100%|██████████| 20000/20000 [03:35<00:00, 92.82it/s]\n"
     ]
    }
   ],
   "source": [
    "# i=0\n",
    "# for img in tqdm(os.listdir(\"human\")[:20000]):\n",
    "#     src_name= f\"human/{img}\"\n",
    "#     dest_name= src_name\n",
    "#     if i<18000:\n",
    "#         dest_name= train_human\n",
    "#     elif i<19000:\n",
    "#         dest_name= test_human\n",
    "#     else:\n",
    "#         dest_name= validation_human\n",
    "        \n",
    "#     os.system(\n",
    "#         f\"sudo mv {src_name} {dest_name}\"\n",
    "#     )\n",
    "#     i+=1"
   ]
  },
  {
   "cell_type": "code",
   "execution_count": 14,
   "metadata": {},
   "outputs": [
    {
     "name": "stdout",
     "output_type": "stream",
     "text": [
      "18000\n",
      "1000\n",
      "1000\n"
     ]
    }
   ],
   "source": [
    "print(len(os.listdir(train_human)))\n",
    "print(len(os.listdir(test_human)))\n",
    "print(len(os.listdir(validation_human)))"
   ]
  },
  {
   "cell_type": "code",
   "execution_count": null,
   "metadata": {},
   "outputs": [],
   "source": [
    "i=0\n",
    "for img in tqdm(os.listdir(\"ai_gen_images\")):\n",
    "    src_name= f\"ai_gen_images/{img}\"\n",
    "    dest_name= src_name\n",
    "    if i<18000:\n",
    "        dest_name= train_ai_gen\n",
    "    elif i<19000:\n",
    "        dest_name= test_ai_gen\n",
    "    else:\n",
    "        dest_name= validation_ai_gen\n",
    "        \n",
    "    os.system(\n",
    "        f\"sudo mv {src_name} {dest_name}\"\n",
    "    )\n",
    "    i+=1"
   ]
  },
  {
   "cell_type": "code",
   "execution_count": null,
   "metadata": {},
   "outputs": [],
   "source": [
    "print(len(os.listdir(train_ai_gen)))\n",
    "print(len(os.listdir(test_ai_gen)))\n",
    "print(len(os.listdir(validation_ai_gen)))"
   ]
  }
 ],
 "metadata": {
  "kernelspec": {
   "display_name": "venv",
   "language": "python",
   "name": "python3"
  },
  "language_info": {
   "codemirror_mode": {
    "name": "ipython",
    "version": 3
   },
   "file_extension": ".py",
   "mimetype": "text/x-python",
   "name": "python",
   "nbconvert_exporter": "python",
   "pygments_lexer": "ipython3",
   "version": "3.10.12"
  }
 },
 "nbformat": 4,
 "nbformat_minor": 2
}
